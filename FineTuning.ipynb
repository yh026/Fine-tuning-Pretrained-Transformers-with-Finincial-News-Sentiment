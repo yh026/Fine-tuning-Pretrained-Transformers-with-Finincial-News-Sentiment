{
  "nbformat": 4,
  "nbformat_minor": 0,
  "metadata": {
    "colab": {
      "provenance": [],
      "gpuType": "A100"
    },
    "kernelspec": {
      "name": "python3",
      "display_name": "Python 3"
    },
    "language_info": {
      "name": "python"
    },
    "accelerator": "GPU",
    "widgets": {
      "application/vnd.jupyter.widget-state+json": {
        "290ff6ef3b5b4c7e9f739019923fe428": {
          "model_module": "@jupyter-widgets/controls",
          "model_name": "HBoxModel",
          "model_module_version": "1.5.0",
          "state": {
            "_dom_classes": [],
            "_model_module": "@jupyter-widgets/controls",
            "_model_module_version": "1.5.0",
            "_model_name": "HBoxModel",
            "_view_count": null,
            "_view_module": "@jupyter-widgets/controls",
            "_view_module_version": "1.5.0",
            "_view_name": "HBoxView",
            "box_style": "",
            "children": [
              "IPY_MODEL_deb29998e17944a4ac5769f7579d6449",
              "IPY_MODEL_8361d76705da4478aa8c15894d208fef",
              "IPY_MODEL_ff443868b4a04be687ebad3a36af3318"
            ],
            "layout": "IPY_MODEL_20914a564b124da5b16244864ef49257"
          }
        },
        "deb29998e17944a4ac5769f7579d6449": {
          "model_module": "@jupyter-widgets/controls",
          "model_name": "HTMLModel",
          "model_module_version": "1.5.0",
          "state": {
            "_dom_classes": [],
            "_model_module": "@jupyter-widgets/controls",
            "_model_module_version": "1.5.0",
            "_model_name": "HTMLModel",
            "_view_count": null,
            "_view_module": "@jupyter-widgets/controls",
            "_view_module_version": "1.5.0",
            "_view_name": "HTMLView",
            "description": "",
            "description_tooltip": null,
            "layout": "IPY_MODEL_b0fdfca522be4439b92cef355e1468cf",
            "placeholder": "​",
            "style": "IPY_MODEL_cfb8eac084b34b0cacca68eb15f9b951",
            "value": "Map: 100%"
          }
        },
        "8361d76705da4478aa8c15894d208fef": {
          "model_module": "@jupyter-widgets/controls",
          "model_name": "FloatProgressModel",
          "model_module_version": "1.5.0",
          "state": {
            "_dom_classes": [],
            "_model_module": "@jupyter-widgets/controls",
            "_model_module_version": "1.5.0",
            "_model_name": "FloatProgressModel",
            "_view_count": null,
            "_view_module": "@jupyter-widgets/controls",
            "_view_module_version": "1.5.0",
            "_view_name": "ProgressView",
            "bar_style": "success",
            "description": "",
            "description_tooltip": null,
            "layout": "IPY_MODEL_f2f9dcddc6e246b6bfe7b087a3e5d727",
            "max": 9543,
            "min": 0,
            "orientation": "horizontal",
            "style": "IPY_MODEL_ef1fed27bdf048c2ad8063822c720ecd",
            "value": 9543
          }
        },
        "ff443868b4a04be687ebad3a36af3318": {
          "model_module": "@jupyter-widgets/controls",
          "model_name": "HTMLModel",
          "model_module_version": "1.5.0",
          "state": {
            "_dom_classes": [],
            "_model_module": "@jupyter-widgets/controls",
            "_model_module_version": "1.5.0",
            "_model_name": "HTMLModel",
            "_view_count": null,
            "_view_module": "@jupyter-widgets/controls",
            "_view_module_version": "1.5.0",
            "_view_name": "HTMLView",
            "description": "",
            "description_tooltip": null,
            "layout": "IPY_MODEL_df7f091354d145d6b0ec18a38d82ab27",
            "placeholder": "​",
            "style": "IPY_MODEL_a849deee6c0d4dc7aaa9c384117176f1",
            "value": " 9543/9543 [00:00&lt;00:00, 22954.76 examples/s]"
          }
        },
        "20914a564b124da5b16244864ef49257": {
          "model_module": "@jupyter-widgets/base",
          "model_name": "LayoutModel",
          "model_module_version": "1.2.0",
          "state": {
            "_model_module": "@jupyter-widgets/base",
            "_model_module_version": "1.2.0",
            "_model_name": "LayoutModel",
            "_view_count": null,
            "_view_module": "@jupyter-widgets/base",
            "_view_module_version": "1.2.0",
            "_view_name": "LayoutView",
            "align_content": null,
            "align_items": null,
            "align_self": null,
            "border": null,
            "bottom": null,
            "display": null,
            "flex": null,
            "flex_flow": null,
            "grid_area": null,
            "grid_auto_columns": null,
            "grid_auto_flow": null,
            "grid_auto_rows": null,
            "grid_column": null,
            "grid_gap": null,
            "grid_row": null,
            "grid_template_areas": null,
            "grid_template_columns": null,
            "grid_template_rows": null,
            "height": null,
            "justify_content": null,
            "justify_items": null,
            "left": null,
            "margin": null,
            "max_height": null,
            "max_width": null,
            "min_height": null,
            "min_width": null,
            "object_fit": null,
            "object_position": null,
            "order": null,
            "overflow": null,
            "overflow_x": null,
            "overflow_y": null,
            "padding": null,
            "right": null,
            "top": null,
            "visibility": null,
            "width": null
          }
        },
        "b0fdfca522be4439b92cef355e1468cf": {
          "model_module": "@jupyter-widgets/base",
          "model_name": "LayoutModel",
          "model_module_version": "1.2.0",
          "state": {
            "_model_module": "@jupyter-widgets/base",
            "_model_module_version": "1.2.0",
            "_model_name": "LayoutModel",
            "_view_count": null,
            "_view_module": "@jupyter-widgets/base",
            "_view_module_version": "1.2.0",
            "_view_name": "LayoutView",
            "align_content": null,
            "align_items": null,
            "align_self": null,
            "border": null,
            "bottom": null,
            "display": null,
            "flex": null,
            "flex_flow": null,
            "grid_area": null,
            "grid_auto_columns": null,
            "grid_auto_flow": null,
            "grid_auto_rows": null,
            "grid_column": null,
            "grid_gap": null,
            "grid_row": null,
            "grid_template_areas": null,
            "grid_template_columns": null,
            "grid_template_rows": null,
            "height": null,
            "justify_content": null,
            "justify_items": null,
            "left": null,
            "margin": null,
            "max_height": null,
            "max_width": null,
            "min_height": null,
            "min_width": null,
            "object_fit": null,
            "object_position": null,
            "order": null,
            "overflow": null,
            "overflow_x": null,
            "overflow_y": null,
            "padding": null,
            "right": null,
            "top": null,
            "visibility": null,
            "width": null
          }
        },
        "cfb8eac084b34b0cacca68eb15f9b951": {
          "model_module": "@jupyter-widgets/controls",
          "model_name": "DescriptionStyleModel",
          "model_module_version": "1.5.0",
          "state": {
            "_model_module": "@jupyter-widgets/controls",
            "_model_module_version": "1.5.0",
            "_model_name": "DescriptionStyleModel",
            "_view_count": null,
            "_view_module": "@jupyter-widgets/base",
            "_view_module_version": "1.2.0",
            "_view_name": "StyleView",
            "description_width": ""
          }
        },
        "f2f9dcddc6e246b6bfe7b087a3e5d727": {
          "model_module": "@jupyter-widgets/base",
          "model_name": "LayoutModel",
          "model_module_version": "1.2.0",
          "state": {
            "_model_module": "@jupyter-widgets/base",
            "_model_module_version": "1.2.0",
            "_model_name": "LayoutModel",
            "_view_count": null,
            "_view_module": "@jupyter-widgets/base",
            "_view_module_version": "1.2.0",
            "_view_name": "LayoutView",
            "align_content": null,
            "align_items": null,
            "align_self": null,
            "border": null,
            "bottom": null,
            "display": null,
            "flex": null,
            "flex_flow": null,
            "grid_area": null,
            "grid_auto_columns": null,
            "grid_auto_flow": null,
            "grid_auto_rows": null,
            "grid_column": null,
            "grid_gap": null,
            "grid_row": null,
            "grid_template_areas": null,
            "grid_template_columns": null,
            "grid_template_rows": null,
            "height": null,
            "justify_content": null,
            "justify_items": null,
            "left": null,
            "margin": null,
            "max_height": null,
            "max_width": null,
            "min_height": null,
            "min_width": null,
            "object_fit": null,
            "object_position": null,
            "order": null,
            "overflow": null,
            "overflow_x": null,
            "overflow_y": null,
            "padding": null,
            "right": null,
            "top": null,
            "visibility": null,
            "width": null
          }
        },
        "ef1fed27bdf048c2ad8063822c720ecd": {
          "model_module": "@jupyter-widgets/controls",
          "model_name": "ProgressStyleModel",
          "model_module_version": "1.5.0",
          "state": {
            "_model_module": "@jupyter-widgets/controls",
            "_model_module_version": "1.5.0",
            "_model_name": "ProgressStyleModel",
            "_view_count": null,
            "_view_module": "@jupyter-widgets/base",
            "_view_module_version": "1.2.0",
            "_view_name": "StyleView",
            "bar_color": null,
            "description_width": ""
          }
        },
        "df7f091354d145d6b0ec18a38d82ab27": {
          "model_module": "@jupyter-widgets/base",
          "model_name": "LayoutModel",
          "model_module_version": "1.2.0",
          "state": {
            "_model_module": "@jupyter-widgets/base",
            "_model_module_version": "1.2.0",
            "_model_name": "LayoutModel",
            "_view_count": null,
            "_view_module": "@jupyter-widgets/base",
            "_view_module_version": "1.2.0",
            "_view_name": "LayoutView",
            "align_content": null,
            "align_items": null,
            "align_self": null,
            "border": null,
            "bottom": null,
            "display": null,
            "flex": null,
            "flex_flow": null,
            "grid_area": null,
            "grid_auto_columns": null,
            "grid_auto_flow": null,
            "grid_auto_rows": null,
            "grid_column": null,
            "grid_gap": null,
            "grid_row": null,
            "grid_template_areas": null,
            "grid_template_columns": null,
            "grid_template_rows": null,
            "height": null,
            "justify_content": null,
            "justify_items": null,
            "left": null,
            "margin": null,
            "max_height": null,
            "max_width": null,
            "min_height": null,
            "min_width": null,
            "object_fit": null,
            "object_position": null,
            "order": null,
            "overflow": null,
            "overflow_x": null,
            "overflow_y": null,
            "padding": null,
            "right": null,
            "top": null,
            "visibility": null,
            "width": null
          }
        },
        "a849deee6c0d4dc7aaa9c384117176f1": {
          "model_module": "@jupyter-widgets/controls",
          "model_name": "DescriptionStyleModel",
          "model_module_version": "1.5.0",
          "state": {
            "_model_module": "@jupyter-widgets/controls",
            "_model_module_version": "1.5.0",
            "_model_name": "DescriptionStyleModel",
            "_view_count": null,
            "_view_module": "@jupyter-widgets/base",
            "_view_module_version": "1.2.0",
            "_view_name": "StyleView",
            "description_width": ""
          }
        },
        "771986e8d68e4aaa9269fcadcc894e69": {
          "model_module": "@jupyter-widgets/controls",
          "model_name": "HBoxModel",
          "model_module_version": "1.5.0",
          "state": {
            "_dom_classes": [],
            "_model_module": "@jupyter-widgets/controls",
            "_model_module_version": "1.5.0",
            "_model_name": "HBoxModel",
            "_view_count": null,
            "_view_module": "@jupyter-widgets/controls",
            "_view_module_version": "1.5.0",
            "_view_name": "HBoxView",
            "box_style": "",
            "children": [
              "IPY_MODEL_4d66884f54be42149ea6f36c098acac8",
              "IPY_MODEL_588df679faf6451397d050989828b064",
              "IPY_MODEL_63fed8d77c9b450f8a88a79bd3fc9c01"
            ],
            "layout": "IPY_MODEL_92c74d12809549c195a17056f5a6f24e"
          }
        },
        "4d66884f54be42149ea6f36c098acac8": {
          "model_module": "@jupyter-widgets/controls",
          "model_name": "HTMLModel",
          "model_module_version": "1.5.0",
          "state": {
            "_dom_classes": [],
            "_model_module": "@jupyter-widgets/controls",
            "_model_module_version": "1.5.0",
            "_model_name": "HTMLModel",
            "_view_count": null,
            "_view_module": "@jupyter-widgets/controls",
            "_view_module_version": "1.5.0",
            "_view_name": "HTMLView",
            "description": "",
            "description_tooltip": null,
            "layout": "IPY_MODEL_59f70f6e781d4794904c1bacdb0e610c",
            "placeholder": "​",
            "style": "IPY_MODEL_92903a44437b4d4eb19177abb6d84c2d",
            "value": "Map: 100%"
          }
        },
        "588df679faf6451397d050989828b064": {
          "model_module": "@jupyter-widgets/controls",
          "model_name": "FloatProgressModel",
          "model_module_version": "1.5.0",
          "state": {
            "_dom_classes": [],
            "_model_module": "@jupyter-widgets/controls",
            "_model_module_version": "1.5.0",
            "_model_name": "FloatProgressModel",
            "_view_count": null,
            "_view_module": "@jupyter-widgets/controls",
            "_view_module_version": "1.5.0",
            "_view_name": "ProgressView",
            "bar_style": "success",
            "description": "",
            "description_tooltip": null,
            "layout": "IPY_MODEL_fdd8979e7e7640c2b226004fab2247d4",
            "max": 2388,
            "min": 0,
            "orientation": "horizontal",
            "style": "IPY_MODEL_b18a5b3b3697440baa247645302a880c",
            "value": 2388
          }
        },
        "63fed8d77c9b450f8a88a79bd3fc9c01": {
          "model_module": "@jupyter-widgets/controls",
          "model_name": "HTMLModel",
          "model_module_version": "1.5.0",
          "state": {
            "_dom_classes": [],
            "_model_module": "@jupyter-widgets/controls",
            "_model_module_version": "1.5.0",
            "_model_name": "HTMLModel",
            "_view_count": null,
            "_view_module": "@jupyter-widgets/controls",
            "_view_module_version": "1.5.0",
            "_view_name": "HTMLView",
            "description": "",
            "description_tooltip": null,
            "layout": "IPY_MODEL_9d04783d0eb2452f8f46269ad8dede7c",
            "placeholder": "​",
            "style": "IPY_MODEL_f6cf1b5a5cfa4001aa98ec63ff101d27",
            "value": " 2388/2388 [00:00&lt;00:00, 21457.97 examples/s]"
          }
        },
        "92c74d12809549c195a17056f5a6f24e": {
          "model_module": "@jupyter-widgets/base",
          "model_name": "LayoutModel",
          "model_module_version": "1.2.0",
          "state": {
            "_model_module": "@jupyter-widgets/base",
            "_model_module_version": "1.2.0",
            "_model_name": "LayoutModel",
            "_view_count": null,
            "_view_module": "@jupyter-widgets/base",
            "_view_module_version": "1.2.0",
            "_view_name": "LayoutView",
            "align_content": null,
            "align_items": null,
            "align_self": null,
            "border": null,
            "bottom": null,
            "display": null,
            "flex": null,
            "flex_flow": null,
            "grid_area": null,
            "grid_auto_columns": null,
            "grid_auto_flow": null,
            "grid_auto_rows": null,
            "grid_column": null,
            "grid_gap": null,
            "grid_row": null,
            "grid_template_areas": null,
            "grid_template_columns": null,
            "grid_template_rows": null,
            "height": null,
            "justify_content": null,
            "justify_items": null,
            "left": null,
            "margin": null,
            "max_height": null,
            "max_width": null,
            "min_height": null,
            "min_width": null,
            "object_fit": null,
            "object_position": null,
            "order": null,
            "overflow": null,
            "overflow_x": null,
            "overflow_y": null,
            "padding": null,
            "right": null,
            "top": null,
            "visibility": null,
            "width": null
          }
        },
        "59f70f6e781d4794904c1bacdb0e610c": {
          "model_module": "@jupyter-widgets/base",
          "model_name": "LayoutModel",
          "model_module_version": "1.2.0",
          "state": {
            "_model_module": "@jupyter-widgets/base",
            "_model_module_version": "1.2.0",
            "_model_name": "LayoutModel",
            "_view_count": null,
            "_view_module": "@jupyter-widgets/base",
            "_view_module_version": "1.2.0",
            "_view_name": "LayoutView",
            "align_content": null,
            "align_items": null,
            "align_self": null,
            "border": null,
            "bottom": null,
            "display": null,
            "flex": null,
            "flex_flow": null,
            "grid_area": null,
            "grid_auto_columns": null,
            "grid_auto_flow": null,
            "grid_auto_rows": null,
            "grid_column": null,
            "grid_gap": null,
            "grid_row": null,
            "grid_template_areas": null,
            "grid_template_columns": null,
            "grid_template_rows": null,
            "height": null,
            "justify_content": null,
            "justify_items": null,
            "left": null,
            "margin": null,
            "max_height": null,
            "max_width": null,
            "min_height": null,
            "min_width": null,
            "object_fit": null,
            "object_position": null,
            "order": null,
            "overflow": null,
            "overflow_x": null,
            "overflow_y": null,
            "padding": null,
            "right": null,
            "top": null,
            "visibility": null,
            "width": null
          }
        },
        "92903a44437b4d4eb19177abb6d84c2d": {
          "model_module": "@jupyter-widgets/controls",
          "model_name": "DescriptionStyleModel",
          "model_module_version": "1.5.0",
          "state": {
            "_model_module": "@jupyter-widgets/controls",
            "_model_module_version": "1.5.0",
            "_model_name": "DescriptionStyleModel",
            "_view_count": null,
            "_view_module": "@jupyter-widgets/base",
            "_view_module_version": "1.2.0",
            "_view_name": "StyleView",
            "description_width": ""
          }
        },
        "fdd8979e7e7640c2b226004fab2247d4": {
          "model_module": "@jupyter-widgets/base",
          "model_name": "LayoutModel",
          "model_module_version": "1.2.0",
          "state": {
            "_model_module": "@jupyter-widgets/base",
            "_model_module_version": "1.2.0",
            "_model_name": "LayoutModel",
            "_view_count": null,
            "_view_module": "@jupyter-widgets/base",
            "_view_module_version": "1.2.0",
            "_view_name": "LayoutView",
            "align_content": null,
            "align_items": null,
            "align_self": null,
            "border": null,
            "bottom": null,
            "display": null,
            "flex": null,
            "flex_flow": null,
            "grid_area": null,
            "grid_auto_columns": null,
            "grid_auto_flow": null,
            "grid_auto_rows": null,
            "grid_column": null,
            "grid_gap": null,
            "grid_row": null,
            "grid_template_areas": null,
            "grid_template_columns": null,
            "grid_template_rows": null,
            "height": null,
            "justify_content": null,
            "justify_items": null,
            "left": null,
            "margin": null,
            "max_height": null,
            "max_width": null,
            "min_height": null,
            "min_width": null,
            "object_fit": null,
            "object_position": null,
            "order": null,
            "overflow": null,
            "overflow_x": null,
            "overflow_y": null,
            "padding": null,
            "right": null,
            "top": null,
            "visibility": null,
            "width": null
          }
        },
        "b18a5b3b3697440baa247645302a880c": {
          "model_module": "@jupyter-widgets/controls",
          "model_name": "ProgressStyleModel",
          "model_module_version": "1.5.0",
          "state": {
            "_model_module": "@jupyter-widgets/controls",
            "_model_module_version": "1.5.0",
            "_model_name": "ProgressStyleModel",
            "_view_count": null,
            "_view_module": "@jupyter-widgets/base",
            "_view_module_version": "1.2.0",
            "_view_name": "StyleView",
            "bar_color": null,
            "description_width": ""
          }
        },
        "9d04783d0eb2452f8f46269ad8dede7c": {
          "model_module": "@jupyter-widgets/base",
          "model_name": "LayoutModel",
          "model_module_version": "1.2.0",
          "state": {
            "_model_module": "@jupyter-widgets/base",
            "_model_module_version": "1.2.0",
            "_model_name": "LayoutModel",
            "_view_count": null,
            "_view_module": "@jupyter-widgets/base",
            "_view_module_version": "1.2.0",
            "_view_name": "LayoutView",
            "align_content": null,
            "align_items": null,
            "align_self": null,
            "border": null,
            "bottom": null,
            "display": null,
            "flex": null,
            "flex_flow": null,
            "grid_area": null,
            "grid_auto_columns": null,
            "grid_auto_flow": null,
            "grid_auto_rows": null,
            "grid_column": null,
            "grid_gap": null,
            "grid_row": null,
            "grid_template_areas": null,
            "grid_template_columns": null,
            "grid_template_rows": null,
            "height": null,
            "justify_content": null,
            "justify_items": null,
            "left": null,
            "margin": null,
            "max_height": null,
            "max_width": null,
            "min_height": null,
            "min_width": null,
            "object_fit": null,
            "object_position": null,
            "order": null,
            "overflow": null,
            "overflow_x": null,
            "overflow_y": null,
            "padding": null,
            "right": null,
            "top": null,
            "visibility": null,
            "width": null
          }
        },
        "f6cf1b5a5cfa4001aa98ec63ff101d27": {
          "model_module": "@jupyter-widgets/controls",
          "model_name": "DescriptionStyleModel",
          "model_module_version": "1.5.0",
          "state": {
            "_model_module": "@jupyter-widgets/controls",
            "_model_module_version": "1.5.0",
            "_model_name": "DescriptionStyleModel",
            "_view_count": null,
            "_view_module": "@jupyter-widgets/base",
            "_view_module_version": "1.2.0",
            "_view_name": "StyleView",
            "description_width": ""
          }
        }
      }
    }
  },
  "cells": [
    {
      "cell_type": "code",
      "execution_count": 1,
      "metadata": {
        "id": "V_nMZ6ZbcgR6"
      },
      "outputs": [],
      "source": [
        "from datasets import load_dataset\n",
        "from transformers import BertTokenizer, BertForSequenceClassification, Trainer, TrainingArguments,logging,pipeline\n",
        "from sklearn.metrics import accuracy_score, f1_score\n",
        "from sklearn.model_selection import train_test_split\n",
        "import numpy as np\n",
        "import torch\n",
        "from torch.nn import CrossEntropyLoss\n",
        "import re\n",
        "import pandas as pd\n",
        "from matplotlib import pyplot as plt\n",
        "\n",
        "# logging.set_verbosity_info()"
      ]
    },
    {
      "cell_type": "markdown",
      "source": [
        "## Download the dataset"
      ],
      "metadata": {
        "id": "lGP9FiMPrMRD"
      }
    },
    {
      "cell_type": "code",
      "source": [
        "ds = load_dataset(\"zeroshot/twitter-financial-news-sentiment\")\n",
        "# ds = load_dataset(\"warwickai/financial_phrasebank_mirror\")"
      ],
      "metadata": {
        "id": "5Wbymu-Uc2rv",
        "colab": {
          "base_uri": "https://localhost:8080/"
        },
        "outputId": "ce93b763-bf4a-45ad-f5f9-786e0841b4b3"
      },
      "execution_count": 2,
      "outputs": [
        {
          "output_type": "stream",
          "name": "stderr",
          "text": [
            "/usr/local/lib/python3.12/dist-packages/huggingface_hub/utils/_auth.py:94: UserWarning: \n",
            "The secret `HF_TOKEN` does not exist in your Colab secrets.\n",
            "To authenticate with the Hugging Face Hub, create a token in your settings tab (https://huggingface.co/settings/tokens), set it as secret in your Google Colab and restart your session.\n",
            "You will be able to reuse this secret in all of your notebooks.\n",
            "Please note that authentication is recommended but still optional to access public models or datasets.\n",
            "  warnings.warn(\n"
          ]
        }
      ]
    },
    {
      "cell_type": "code",
      "source": [
        "ds.shape"
      ],
      "metadata": {
        "colab": {
          "base_uri": "https://localhost:8080/"
        },
        "id": "udIq1SjydA4Z",
        "outputId": "0e6087b9-1ba0-429f-fb2c-b617668c5110"
      },
      "execution_count": 3,
      "outputs": [
        {
          "output_type": "execute_result",
          "data": {
            "text/plain": [
              "{'train': (9543, 2), 'validation': (2388, 2)}"
            ]
          },
          "metadata": {},
          "execution_count": 3
        }
      ]
    },
    {
      "cell_type": "code",
      "source": [
        "tokenizer = BertTokenizer.from_pretrained(\"bert-base-uncased\")"
      ],
      "metadata": {
        "id": "rmSYN3BagcVR"
      },
      "execution_count": 6,
      "outputs": []
    },
    {
      "cell_type": "markdown",
      "source": [
        "## Preprocess the data"
      ],
      "metadata": {
        "id": "YtbI6x1_rRqw"
      }
    },
    {
      "cell_type": "code",
      "source": [
        "def clean_tweet(text):\n",
        "    text = re.sub(r\"http\\S+\", \"\", text)   # remove URLs\n",
        "    text = re.sub(r\"\\$\\w+\", \"\", text)     # remove tickers like $BYND\n",
        "    text = re.sub(r\"@[A-Za-z0-9_]+\", \"\", text)  # remove mentions\n",
        "    return text.strip()\n",
        "ds = ds.map(lambda x: {\"text\": clean_tweet(x[\"text\"])})"
      ],
      "metadata": {
        "id": "uvUWZENsqutz"
      },
      "execution_count": 7,
      "outputs": []
    },
    {
      "cell_type": "code",
      "source": [
        "def preprocess(batch):\n",
        "    return tokenizer(batch[\"text\"], truncation=True, padding=\"max_length\", max_length=128)\n"
      ],
      "metadata": {
        "id": "cey9PjWsgloM"
      },
      "execution_count": 8,
      "outputs": []
    },
    {
      "cell_type": "code",
      "source": [
        "encoded_dataset = ds.map(preprocess, batched=True)"
      ],
      "metadata": {
        "id": "RdLtrIW6g5ay"
      },
      "execution_count": 9,
      "outputs": []
    },
    {
      "cell_type": "code",
      "source": [
        "encoded_dataset.set_format(type=\"torch\", columns=[\"input_ids\", \"attention_mask\", \"label\"])"
      ],
      "metadata": {
        "id": "rgm84kvghJaD"
      },
      "execution_count": 10,
      "outputs": []
    },
    {
      "cell_type": "code",
      "source": [
        "def print_gpu_usage(tag=\"\"):\n",
        "    if torch.cuda.is_available():\n",
        "        print(f\"[{tag}] GPU memory allocated: {torch.cuda.memory_allocated() / 1e9:.2f} GB\")\n",
        "        print(f\"[{tag}] GPU memory reserved:  {torch.cuda.memory_reserved() / 1e9:.2f} GB\")\n"
      ],
      "metadata": {
        "id": "LZmzWU4u70Aj"
      },
      "execution_count": 11,
      "outputs": []
    },
    {
      "cell_type": "markdown",
      "source": [
        "## Full Fine-tuning"
      ],
      "metadata": {
        "id": "1b7W41-6_WWu"
      }
    },
    {
      "cell_type": "code",
      "source": [
        "print_gpu_usage(\"Initial State\")"
      ],
      "metadata": {
        "colab": {
          "base_uri": "https://localhost:8080/"
        },
        "id": "20b0fJvaFexf",
        "outputId": "af8f40f9-4297-4488-97fa-86f19e8e9fde"
      },
      "execution_count": 12,
      "outputs": [
        {
          "output_type": "stream",
          "name": "stdout",
          "text": [
            "[Initial State] GPU memory allocated: 0.00 GB\n",
            "[Initial State] GPU memory reserved:  0.00 GB\n"
          ]
        }
      ]
    },
    {
      "cell_type": "code",
      "source": [
        "model = BertForSequenceClassification.from_pretrained(\"bert-base-uncased\", num_labels=3,hidden_dropout_prob=0.3,  # add drop out\n",
        "    attention_probs_dropout_prob=0.3)"
      ],
      "metadata": {
        "colab": {
          "base_uri": "https://localhost:8080/"
        },
        "id": "wl9HrQ6JAkjN",
        "outputId": "a2a33445-6054-4e29-903b-a9f8b86ccf5f"
      },
      "execution_count": 13,
      "outputs": [
        {
          "output_type": "stream",
          "name": "stderr",
          "text": [
            "Some weights of BertForSequenceClassification were not initialized from the model checkpoint at bert-base-uncased and are newly initialized: ['classifier.bias', 'classifier.weight']\n",
            "You should probably TRAIN this model on a down-stream task to be able to use it for predictions and inference.\n"
          ]
        }
      ]
    },
    {
      "cell_type": "code",
      "source": [
        "training_args = TrainingArguments(\n",
        "    output_dir=\"./results_BERT_full_finetune\",\n",
        "    do_eval=True,\n",
        "    eval_strategy=\"epoch\",\n",
        "    save_strategy=\"epoch\",\n",
        "    learning_rate=2e-5,\n",
        "    per_device_train_batch_size=32,\n",
        "    per_device_eval_batch_size=64,\n",
        "    num_train_epochs=20,\n",
        "    load_best_model_at_end=True,\n",
        "    weight_decay=0.01,\n",
        "    logging_dir=\"./logs\",\n",
        "    logging_strategy=\"epoch\",\n",
        ")\n"
      ],
      "metadata": {
        "id": "fVH6MUqUhNHl"
      },
      "execution_count": 14,
      "outputs": []
    },
    {
      "cell_type": "code",
      "source": [
        "def compute_metrics(eval_pred):\n",
        "    logits, labels = eval_pred\n",
        "    preds = np.argmax(logits, axis=-1)\n",
        "    acc = accuracy_score(labels, preds)\n",
        "    f1 = f1_score(labels, preds, average=\"macro\")\n",
        "    return {\"accuracy\": acc, \"f1\": f1}"
      ],
      "metadata": {
        "id": "rKjxuEigf4Eo"
      },
      "execution_count": 15,
      "outputs": []
    },
    {
      "cell_type": "code",
      "source": [
        "trainer = Trainer(\n",
        "    model=model,\n",
        "    args=training_args,\n",
        "    train_dataset=encoded_dataset[\"train\"],\n",
        "    eval_dataset=encoded_dataset[\"validation\"],\n",
        "    tokenizer=tokenizer,\n",
        "    compute_metrics=compute_metrics,\n",
        ")"
      ],
      "metadata": {
        "colab": {
          "base_uri": "https://localhost:8080/"
        },
        "id": "kBJRxuYghTJ4",
        "outputId": "5e19506a-3071-42fc-ed05-776c948bed3f"
      },
      "execution_count": 16,
      "outputs": [
        {
          "output_type": "stream",
          "name": "stderr",
          "text": [
            "/tmp/ipython-input-449286851.py:1: FutureWarning: `tokenizer` is deprecated and will be removed in version 5.0.0 for `Trainer.__init__`. Use `processing_class` instead.\n",
            "  trainer = Trainer(\n"
          ]
        }
      ]
    },
    {
      "cell_type": "code",
      "source": [
        "trainer.train()\n"
      ],
      "metadata": {
        "colab": {
          "base_uri": "https://localhost:8080/",
          "height": 881
        },
        "id": "lXGA4wGBhqHh",
        "outputId": "3f148638-8e26-49f6-c585-11d4be5d47ff"
      },
      "execution_count": 17,
      "outputs": [
        {
          "output_type": "stream",
          "name": "stderr",
          "text": [
            "\u001b[34m\u001b[1mwandb\u001b[0m: Currently logged in as: \u001b[33myhchen1766\u001b[0m (\u001b[33myhchen1766-nus\u001b[0m) to \u001b[32mhttps://api.wandb.ai\u001b[0m. Use \u001b[1m`wandb login --relogin`\u001b[0m to force relogin\n"
          ]
        },
        {
          "output_type": "display_data",
          "data": {
            "text/plain": [
              "<IPython.core.display.HTML object>"
            ],
            "text/html": []
          },
          "metadata": {}
        },
        {
          "output_type": "display_data",
          "data": {
            "text/plain": [
              "<IPython.core.display.HTML object>"
            ],
            "text/html": [
              "Tracking run with wandb version 0.22.2"
            ]
          },
          "metadata": {}
        },
        {
          "output_type": "display_data",
          "data": {
            "text/plain": [
              "<IPython.core.display.HTML object>"
            ],
            "text/html": [
              "Run data is saved locally in <code>/content/wandb/run-20251017_031504-oa4ekgjn</code>"
            ]
          },
          "metadata": {}
        },
        {
          "output_type": "display_data",
          "data": {
            "text/plain": [
              "<IPython.core.display.HTML object>"
            ],
            "text/html": [
              "Syncing run <strong><a href='https://wandb.ai/yhchen1766-nus/huggingface/runs/oa4ekgjn' target=\"_blank\">absurd-cosmos-12</a></strong> to <a href='https://wandb.ai/yhchen1766-nus/huggingface' target=\"_blank\">Weights & Biases</a> (<a href='https://wandb.me/developer-guide' target=\"_blank\">docs</a>)<br>"
            ]
          },
          "metadata": {}
        },
        {
          "output_type": "display_data",
          "data": {
            "text/plain": [
              "<IPython.core.display.HTML object>"
            ],
            "text/html": [
              " View project at <a href='https://wandb.ai/yhchen1766-nus/huggingface' target=\"_blank\">https://wandb.ai/yhchen1766-nus/huggingface</a>"
            ]
          },
          "metadata": {}
        },
        {
          "output_type": "display_data",
          "data": {
            "text/plain": [
              "<IPython.core.display.HTML object>"
            ],
            "text/html": [
              " View run at <a href='https://wandb.ai/yhchen1766-nus/huggingface/runs/oa4ekgjn' target=\"_blank\">https://wandb.ai/yhchen1766-nus/huggingface/runs/oa4ekgjn</a>"
            ]
          },
          "metadata": {}
        },
        {
          "output_type": "display_data",
          "data": {
            "text/plain": [
              "<IPython.core.display.HTML object>"
            ],
            "text/html": [
              "\n",
              "    <div>\n",
              "      \n",
              "      <progress value='5980' max='5980' style='width:300px; height:20px; vertical-align: middle;'></progress>\n",
              "      [5980/5980 17:26, Epoch 20/20]\n",
              "    </div>\n",
              "    <table border=\"1\" class=\"dataframe\">\n",
              "  <thead>\n",
              " <tr style=\"text-align: left;\">\n",
              "      <th>Epoch</th>\n",
              "      <th>Training Loss</th>\n",
              "      <th>Validation Loss</th>\n",
              "      <th>Accuracy</th>\n",
              "      <th>F1</th>\n",
              "    </tr>\n",
              "  </thead>\n",
              "  <tbody>\n",
              "    <tr>\n",
              "      <td>1</td>\n",
              "      <td>0.730300</td>\n",
              "      <td>0.514310</td>\n",
              "      <td>0.805695</td>\n",
              "      <td>0.749386</td>\n",
              "    </tr>\n",
              "    <tr>\n",
              "      <td>2</td>\n",
              "      <td>0.502600</td>\n",
              "      <td>0.403164</td>\n",
              "      <td>0.847571</td>\n",
              "      <td>0.798934</td>\n",
              "    </tr>\n",
              "    <tr>\n",
              "      <td>3</td>\n",
              "      <td>0.414000</td>\n",
              "      <td>0.367447</td>\n",
              "      <td>0.862228</td>\n",
              "      <td>0.820952</td>\n",
              "    </tr>\n",
              "    <tr>\n",
              "      <td>4</td>\n",
              "      <td>0.356500</td>\n",
              "      <td>0.399690</td>\n",
              "      <td>0.847571</td>\n",
              "      <td>0.816504</td>\n",
              "    </tr>\n",
              "    <tr>\n",
              "      <td>5</td>\n",
              "      <td>0.306200</td>\n",
              "      <td>0.404799</td>\n",
              "      <td>0.860134</td>\n",
              "      <td>0.828915</td>\n",
              "    </tr>\n",
              "    <tr>\n",
              "      <td>6</td>\n",
              "      <td>0.269500</td>\n",
              "      <td>0.363892</td>\n",
              "      <td>0.875628</td>\n",
              "      <td>0.844302</td>\n",
              "    </tr>\n",
              "    <tr>\n",
              "      <td>7</td>\n",
              "      <td>0.241000</td>\n",
              "      <td>0.391690</td>\n",
              "      <td>0.861390</td>\n",
              "      <td>0.828419</td>\n",
              "    </tr>\n",
              "    <tr>\n",
              "      <td>8</td>\n",
              "      <td>0.209400</td>\n",
              "      <td>0.400977</td>\n",
              "      <td>0.880653</td>\n",
              "      <td>0.845351</td>\n",
              "    </tr>\n",
              "    <tr>\n",
              "      <td>9</td>\n",
              "      <td>0.186100</td>\n",
              "      <td>0.431155</td>\n",
              "      <td>0.881910</td>\n",
              "      <td>0.850931</td>\n",
              "    </tr>\n",
              "    <tr>\n",
              "      <td>10</td>\n",
              "      <td>0.158000</td>\n",
              "      <td>0.439585</td>\n",
              "      <td>0.872697</td>\n",
              "      <td>0.843736</td>\n",
              "    </tr>\n",
              "    <tr>\n",
              "      <td>11</td>\n",
              "      <td>0.147500</td>\n",
              "      <td>0.468494</td>\n",
              "      <td>0.874791</td>\n",
              "      <td>0.843330</td>\n",
              "    </tr>\n",
              "    <tr>\n",
              "      <td>12</td>\n",
              "      <td>0.129900</td>\n",
              "      <td>0.519010</td>\n",
              "      <td>0.870603</td>\n",
              "      <td>0.838821</td>\n",
              "    </tr>\n",
              "    <tr>\n",
              "      <td>13</td>\n",
              "      <td>0.122200</td>\n",
              "      <td>0.493399</td>\n",
              "      <td>0.877303</td>\n",
              "      <td>0.843466</td>\n",
              "    </tr>\n",
              "    <tr>\n",
              "      <td>14</td>\n",
              "      <td>0.107600</td>\n",
              "      <td>0.511666</td>\n",
              "      <td>0.883166</td>\n",
              "      <td>0.850255</td>\n",
              "    </tr>\n",
              "    <tr>\n",
              "      <td>15</td>\n",
              "      <td>0.104800</td>\n",
              "      <td>0.574009</td>\n",
              "      <td>0.878978</td>\n",
              "      <td>0.846931</td>\n",
              "    </tr>\n",
              "    <tr>\n",
              "      <td>16</td>\n",
              "      <td>0.095800</td>\n",
              "      <td>0.574815</td>\n",
              "      <td>0.881072</td>\n",
              "      <td>0.848308</td>\n",
              "    </tr>\n",
              "    <tr>\n",
              "      <td>17</td>\n",
              "      <td>0.088700</td>\n",
              "      <td>0.594244</td>\n",
              "      <td>0.877722</td>\n",
              "      <td>0.844005</td>\n",
              "    </tr>\n",
              "    <tr>\n",
              "      <td>18</td>\n",
              "      <td>0.081500</td>\n",
              "      <td>0.610397</td>\n",
              "      <td>0.880235</td>\n",
              "      <td>0.846756</td>\n",
              "    </tr>\n",
              "    <tr>\n",
              "      <td>19</td>\n",
              "      <td>0.074000</td>\n",
              "      <td>0.620741</td>\n",
              "      <td>0.878559</td>\n",
              "      <td>0.845013</td>\n",
              "    </tr>\n",
              "    <tr>\n",
              "      <td>20</td>\n",
              "      <td>0.069300</td>\n",
              "      <td>0.626399</td>\n",
              "      <td>0.878559</td>\n",
              "      <td>0.844809</td>\n",
              "    </tr>\n",
              "  </tbody>\n",
              "</table><p>"
            ]
          },
          "metadata": {}
        },
        {
          "output_type": "execute_result",
          "data": {
            "text/plain": [
              "TrainOutput(global_step=5980, training_loss=0.2197616918429882, metrics={'train_runtime': 1049.8865, 'train_samples_per_second': 181.791, 'train_steps_per_second': 5.696, 'total_flos': 1.255445672689152e+16, 'train_loss': 0.2197616918429882, 'epoch': 20.0})"
            ]
          },
          "metadata": {},
          "execution_count": 17
        }
      ]
    },
    {
      "cell_type": "code",
      "source": [
        "print(\"Full fine-tune GPU usage:\")\n",
        "print_gpu_usage(\"Full\")"
      ],
      "metadata": {
        "colab": {
          "base_uri": "https://localhost:8080/"
        },
        "id": "K-ABnP_2FuKr",
        "outputId": "f584fa85-f59f-40b9-eead-c7b01cb55e9e"
      },
      "execution_count": 18,
      "outputs": [
        {
          "output_type": "stream",
          "name": "stdout",
          "text": [
            "Full fine-tune GPU usage:\n",
            "[Full] GPU memory allocated: 1.38 GB\n",
            "[Full] GPU memory reserved:  4.32 GB\n"
          ]
        }
      ]
    },
    {
      "cell_type": "code",
      "source": [
        "trainer.evaluate()"
      ],
      "metadata": {
        "id": "ROWZsm4kig95",
        "colab": {
          "base_uri": "https://localhost:8080/",
          "height": 162
        },
        "outputId": "29a3b3b0-8bcc-4e1e-c220-36b10226d23a"
      },
      "execution_count": 19,
      "outputs": [
        {
          "output_type": "display_data",
          "data": {
            "text/plain": [
              "<IPython.core.display.HTML object>"
            ],
            "text/html": [
              "\n",
              "    <div>\n",
              "      \n",
              "      <progress value='38' max='38' style='width:300px; height:20px; vertical-align: middle;'></progress>\n",
              "      [38/38 00:03]\n",
              "    </div>\n",
              "    "
            ]
          },
          "metadata": {}
        },
        {
          "output_type": "execute_result",
          "data": {
            "text/plain": [
              "{'eval_loss': 0.3638923764228821,\n",
              " 'eval_accuracy': 0.8756281407035176,\n",
              " 'eval_f1': 0.8443017950527255,\n",
              " 'eval_runtime': 3.769,\n",
              " 'eval_samples_per_second': 633.595,\n",
              " 'eval_steps_per_second': 10.082,\n",
              " 'epoch': 20.0}"
            ]
          },
          "metadata": {},
          "execution_count": 19
        }
      ]
    },
    {
      "cell_type": "code",
      "source": [
        "full_logs = pd.DataFrame(trainer.state.log_history)\n",
        "full_logs[\"setup\"] = \"Full Fine-Tuning\""
      ],
      "metadata": {
        "id": "MIQi8Dnnziyi"
      },
      "execution_count": 20,
      "outputs": []
    },
    {
      "cell_type": "code",
      "source": [
        "del model, trainer\n",
        "torch.cuda.empty_cache()"
      ],
      "metadata": {
        "id": "utAL1dRV8TMa"
      },
      "execution_count": 29,
      "outputs": []
    },
    {
      "cell_type": "markdown",
      "source": [
        "## LoRA"
      ],
      "metadata": {
        "id": "x3JL0FmOrL4-"
      }
    },
    {
      "cell_type": "code",
      "source": [
        "print_gpu_usage(\"LoRA Initial\")"
      ],
      "metadata": {
        "colab": {
          "base_uri": "https://localhost:8080/"
        },
        "id": "_R-ct8hHF0Ck",
        "outputId": "6c9797b5-f2eb-4643-fd6a-e63dbd586d50"
      },
      "execution_count": 30,
      "outputs": [
        {
          "output_type": "stream",
          "name": "stdout",
          "text": [
            "[LoRA Initial] GPU memory allocated: 0.48 GB\n",
            "[LoRA Initial] GPU memory reserved:  0.50 GB\n"
          ]
        }
      ]
    },
    {
      "cell_type": "code",
      "source": [
        "from peft import LoraConfig, get_peft_model\n",
        "\n",
        "# 1. Load base model\n",
        "model_lora = BertForSequenceClassification.from_pretrained(\"bert-base-uncased\", num_labels=3)\n",
        "\n",
        "# 2. Configure LoRA\n",
        "lora_config = LoraConfig(\n",
        "    r=8,\n",
        "    lora_alpha=16,\n",
        "    target_modules=[\"query\", \"value\"],  # apply LoRA on attention layers\n",
        "    lora_dropout=0.3,\n",
        "    bias=\"none\",\n",
        "    task_type=\"SEQ_CLS\",\n",
        ")\n"
      ],
      "metadata": {
        "id": "HRoP3hSSn_Pi",
        "collapsed": true,
        "colab": {
          "base_uri": "https://localhost:8080/"
        },
        "outputId": "c0ff763f-7d66-4d73-f087-6fc25acaa08f"
      },
      "execution_count": 31,
      "outputs": [
        {
          "output_type": "stream",
          "name": "stderr",
          "text": [
            "Some weights of BertForSequenceClassification were not initialized from the model checkpoint at bert-base-uncased and are newly initialized: ['classifier.bias', 'classifier.weight']\n",
            "You should probably TRAIN this model on a down-stream task to be able to use it for predictions and inference.\n"
          ]
        }
      ]
    },
    {
      "cell_type": "code",
      "source": [
        "# 3. Wrap model with LoRA\n",
        "model_lora = get_peft_model(model_lora, lora_config)\n",
        "model_lora.print_trainable_parameters()"
      ],
      "metadata": {
        "id": "1gfhKNZ-xuL0",
        "colab": {
          "base_uri": "https://localhost:8080/"
        },
        "outputId": "c1452164-c8ae-44cb-fe50-c2974fe7946f"
      },
      "execution_count": 32,
      "outputs": [
        {
          "output_type": "stream",
          "name": "stdout",
          "text": [
            "trainable params: 297,219 || all params: 109,781,766 || trainable%: 0.2707\n"
          ]
        }
      ]
    },
    {
      "cell_type": "code",
      "source": [
        "# 4. Training\n",
        "training_args = TrainingArguments(\n",
        "    output_dir=\"./results_lora\",\n",
        "    do_eval=True,\n",
        "    eval_strategy=\"epoch\",\n",
        "    save_strategy=\"epoch\",\n",
        "    learning_rate=3e-4,   # higher LR for LoRA\n",
        "    per_device_train_batch_size=32,\n",
        "    per_device_eval_batch_size=64,\n",
        "    num_train_epochs=20,\n",
        "    weight_decay=0.01,\n",
        "    logging_dir=\"./logs_lora\",\n",
        "    logging_strategy=\"epoch\",\n",
        ")\n",
        "\n",
        "trainer_lora = Trainer(\n",
        "    model=model_lora,\n",
        "    args=training_args,\n",
        "    train_dataset=encoded_dataset[\"train\"],\n",
        "    eval_dataset=encoded_dataset[\"validation\"],\n",
        "    tokenizer=tokenizer,\n",
        "    compute_metrics=compute_metrics,\n",
        ")"
      ],
      "metadata": {
        "id": "TKVrBytsxq6F",
        "colab": {
          "base_uri": "https://localhost:8080/"
        },
        "outputId": "299b5cc5-d162-429a-8853-cb81017265e0"
      },
      "execution_count": 33,
      "outputs": [
        {
          "output_type": "stream",
          "name": "stderr",
          "text": [
            "/tmp/ipython-input-1173109926.py:16: FutureWarning: `tokenizer` is deprecated and will be removed in version 5.0.0 for `Trainer.__init__`. Use `processing_class` instead.\n",
            "  trainer_lora = Trainer(\n"
          ]
        }
      ]
    },
    {
      "cell_type": "code",
      "source": [
        "trainer_lora.train()"
      ],
      "metadata": {
        "id": "86vhG_x6x0gX",
        "colab": {
          "base_uri": "https://localhost:8080/",
          "height": 756
        },
        "outputId": "be55b311-8a80-471f-f6fc-abb0a9227889"
      },
      "execution_count": 34,
      "outputs": [
        {
          "output_type": "display_data",
          "data": {
            "text/plain": [
              "<IPython.core.display.HTML object>"
            ],
            "text/html": [
              "\n",
              "    <div>\n",
              "      \n",
              "      <progress value='5980' max='5980' style='width:300px; height:20px; vertical-align: middle;'></progress>\n",
              "      [5980/5980 13:02, Epoch 20/20]\n",
              "    </div>\n",
              "    <table border=\"1\" class=\"dataframe\">\n",
              "  <thead>\n",
              " <tr style=\"text-align: left;\">\n",
              "      <th>Epoch</th>\n",
              "      <th>Training Loss</th>\n",
              "      <th>Validation Loss</th>\n",
              "      <th>Accuracy</th>\n",
              "      <th>F1</th>\n",
              "    </tr>\n",
              "  </thead>\n",
              "  <tbody>\n",
              "    <tr>\n",
              "      <td>1</td>\n",
              "      <td>0.710800</td>\n",
              "      <td>0.581931</td>\n",
              "      <td>0.767169</td>\n",
              "      <td>0.627743</td>\n",
              "    </tr>\n",
              "    <tr>\n",
              "      <td>2</td>\n",
              "      <td>0.509600</td>\n",
              "      <td>0.414728</td>\n",
              "      <td>0.843384</td>\n",
              "      <td>0.776461</td>\n",
              "    </tr>\n",
              "    <tr>\n",
              "      <td>3</td>\n",
              "      <td>0.418700</td>\n",
              "      <td>0.382442</td>\n",
              "      <td>0.853853</td>\n",
              "      <td>0.801677</td>\n",
              "    </tr>\n",
              "    <tr>\n",
              "      <td>4</td>\n",
              "      <td>0.371400</td>\n",
              "      <td>0.387903</td>\n",
              "      <td>0.853434</td>\n",
              "      <td>0.813938</td>\n",
              "    </tr>\n",
              "    <tr>\n",
              "      <td>5</td>\n",
              "      <td>0.330000</td>\n",
              "      <td>0.386438</td>\n",
              "      <td>0.864740</td>\n",
              "      <td>0.821526</td>\n",
              "    </tr>\n",
              "    <tr>\n",
              "      <td>6</td>\n",
              "      <td>0.298700</td>\n",
              "      <td>0.363332</td>\n",
              "      <td>0.871859</td>\n",
              "      <td>0.826748</td>\n",
              "    </tr>\n",
              "    <tr>\n",
              "      <td>7</td>\n",
              "      <td>0.271000</td>\n",
              "      <td>0.369878</td>\n",
              "      <td>0.875628</td>\n",
              "      <td>0.832872</td>\n",
              "    </tr>\n",
              "    <tr>\n",
              "      <td>8</td>\n",
              "      <td>0.252400</td>\n",
              "      <td>0.387935</td>\n",
              "      <td>0.865159</td>\n",
              "      <td>0.824138</td>\n",
              "    </tr>\n",
              "    <tr>\n",
              "      <td>9</td>\n",
              "      <td>0.230000</td>\n",
              "      <td>0.378032</td>\n",
              "      <td>0.874791</td>\n",
              "      <td>0.835223</td>\n",
              "    </tr>\n",
              "    <tr>\n",
              "      <td>10</td>\n",
              "      <td>0.208900</td>\n",
              "      <td>0.398435</td>\n",
              "      <td>0.876047</td>\n",
              "      <td>0.835774</td>\n",
              "    </tr>\n",
              "    <tr>\n",
              "      <td>11</td>\n",
              "      <td>0.194300</td>\n",
              "      <td>0.399463</td>\n",
              "      <td>0.871441</td>\n",
              "      <td>0.834602</td>\n",
              "    </tr>\n",
              "    <tr>\n",
              "      <td>12</td>\n",
              "      <td>0.180500</td>\n",
              "      <td>0.429500</td>\n",
              "      <td>0.874372</td>\n",
              "      <td>0.838323</td>\n",
              "    </tr>\n",
              "    <tr>\n",
              "      <td>13</td>\n",
              "      <td>0.163500</td>\n",
              "      <td>0.444188</td>\n",
              "      <td>0.872278</td>\n",
              "      <td>0.832218</td>\n",
              "    </tr>\n",
              "    <tr>\n",
              "      <td>14</td>\n",
              "      <td>0.153400</td>\n",
              "      <td>0.432887</td>\n",
              "      <td>0.879397</td>\n",
              "      <td>0.841808</td>\n",
              "    </tr>\n",
              "    <tr>\n",
              "      <td>15</td>\n",
              "      <td>0.150400</td>\n",
              "      <td>0.433293</td>\n",
              "      <td>0.874791</td>\n",
              "      <td>0.836908</td>\n",
              "    </tr>\n",
              "    <tr>\n",
              "      <td>16</td>\n",
              "      <td>0.141700</td>\n",
              "      <td>0.450187</td>\n",
              "      <td>0.880653</td>\n",
              "      <td>0.845382</td>\n",
              "    </tr>\n",
              "    <tr>\n",
              "      <td>17</td>\n",
              "      <td>0.138000</td>\n",
              "      <td>0.466493</td>\n",
              "      <td>0.879397</td>\n",
              "      <td>0.842269</td>\n",
              "    </tr>\n",
              "    <tr>\n",
              "      <td>18</td>\n",
              "      <td>0.136900</td>\n",
              "      <td>0.469957</td>\n",
              "      <td>0.877303</td>\n",
              "      <td>0.837364</td>\n",
              "    </tr>\n",
              "    <tr>\n",
              "      <td>19</td>\n",
              "      <td>0.115800</td>\n",
              "      <td>0.482262</td>\n",
              "      <td>0.878141</td>\n",
              "      <td>0.840658</td>\n",
              "    </tr>\n",
              "    <tr>\n",
              "      <td>20</td>\n",
              "      <td>0.122900</td>\n",
              "      <td>0.487252</td>\n",
              "      <td>0.877722</td>\n",
              "      <td>0.839355</td>\n",
              "    </tr>\n",
              "  </tbody>\n",
              "</table><p>"
            ]
          },
          "metadata": {}
        },
        {
          "output_type": "execute_result",
          "data": {
            "text/plain": [
              "TrainOutput(global_step=5980, training_loss=0.2549442769691697, metrics={'train_runtime': 782.4231, 'train_samples_per_second': 243.935, 'train_steps_per_second': 7.643, 'total_flos': 1.259802323057664e+16, 'train_loss': 0.2549442769691697, 'epoch': 20.0})"
            ]
          },
          "metadata": {},
          "execution_count": 34
        }
      ]
    },
    {
      "cell_type": "code",
      "source": [
        "print(\"LoRA fine-tune GPU usage:\")\n",
        "print_gpu_usage(\"LoRA\")"
      ],
      "metadata": {
        "colab": {
          "base_uri": "https://localhost:8080/"
        },
        "id": "sod2fFyUGDa3",
        "outputId": "78fa0357-5a38-4a8c-db60-b20875e9d057"
      },
      "execution_count": 35,
      "outputs": [
        {
          "output_type": "stream",
          "name": "stdout",
          "text": [
            "LoRA fine-tune GPU usage:\n",
            "[LoRA] GPU memory allocated: 0.46 GB\n",
            "[LoRA] GPU memory reserved:  2.87 GB\n"
          ]
        }
      ]
    },
    {
      "cell_type": "code",
      "source": [
        "trainer_lora.evaluate()"
      ],
      "metadata": {
        "id": "JUMQGPMJyE62",
        "colab": {
          "base_uri": "https://localhost:8080/",
          "height": 162
        },
        "outputId": "0eefce04-5a94-45b3-cd80-675b74e49c86"
      },
      "execution_count": 36,
      "outputs": [
        {
          "output_type": "display_data",
          "data": {
            "text/plain": [
              "<IPython.core.display.HTML object>"
            ],
            "text/html": [
              "\n",
              "    <div>\n",
              "      \n",
              "      <progress value='38' max='38' style='width:300px; height:20px; vertical-align: middle;'></progress>\n",
              "      [38/38 00:03]\n",
              "    </div>\n",
              "    "
            ]
          },
          "metadata": {}
        },
        {
          "output_type": "execute_result",
          "data": {
            "text/plain": [
              "{'eval_loss': 0.4872523546218872,\n",
              " 'eval_accuracy': 0.8777219430485762,\n",
              " 'eval_f1': 0.8393547680208909,\n",
              " 'eval_runtime': 3.9624,\n",
              " 'eval_samples_per_second': 602.665,\n",
              " 'eval_steps_per_second': 9.59,\n",
              " 'epoch': 20.0}"
            ]
          },
          "metadata": {},
          "execution_count": 36
        }
      ]
    },
    {
      "cell_type": "code",
      "source": [
        "lora_logs = pd.DataFrame(trainer_lora.state.log_history)\n",
        "lora_logs[\"setup\"] = \"LoRA Fine-Tuning\""
      ],
      "metadata": {
        "id": "vDuXXg-mzo5u"
      },
      "execution_count": 37,
      "outputs": []
    },
    {
      "cell_type": "markdown",
      "source": [
        "## Evaluation and Comparison"
      ],
      "metadata": {
        "id": "9r4fZMa08XTy"
      }
    },
    {
      "cell_type": "code",
      "source": [
        "\n",
        "# Combine logs\n",
        "logs = pd.concat([full_logs, lora_logs])"
      ],
      "metadata": {
        "id": "x6iu0GV9ZGS2"
      },
      "execution_count": 56,
      "outputs": []
    },
    {
      "cell_type": "code",
      "source": [
        "# Filter only training logs (where eval_loss is NaN)\n",
        "train_logs = logs[~logs[\"loss\"].isna()]\n",
        "\n",
        "plt.figure(figsize=(8, 5))\n",
        "for setup, df in train_logs.groupby(\"setup\"):\n",
        "    plt.plot(df[\"epoch\"], df[\"loss\"], label=setup)\n",
        "\n",
        "plt.title(\"Training Loss per Epoch\")\n",
        "plt.xlabel(\"Epoch\")\n",
        "plt.ylabel(\"Training Loss\")\n",
        "plt.legend()\n",
        "plt.grid(True)\n",
        "plt.tight_layout()\n",
        "plt.show()\n"
      ],
      "metadata": {
        "id": "IhdgqhHl0fCo",
        "colab": {
          "base_uri": "https://localhost:8080/",
          "height": 507
        },
        "outputId": "7fab9970-6f74-4214-d199-5275ba22a811"
      },
      "execution_count": 57,
      "outputs": [
        {
          "output_type": "display_data",
          "data": {
            "text/plain": [
              "<Figure size 800x500 with 1 Axes>"
            ],
            "image/png": "[encoded data removed]"
          },
          "metadata": {}
        }
      ]
    },
    {
      "cell_type": "code",
      "source": [
        "eval_full = full_logs[full_logs[\"eval_loss\"].notna()][[\"epoch\", \"eval_loss\", \"eval_accuracy\", \"eval_f1\"]]\n",
        "eval_lora = lora_logs[lora_logs[\"eval_loss\"].notna()][[\"epoch\", \"eval_loss\", \"eval_accuracy\", \"eval_f1\"]]\n",
        "plt.figure(figsize=(8,5))\n",
        "plt.plot(eval_full[\"epoch\"][0:20], eval_full[\"eval_loss\"][0:20], label=\"Full Fine-Tuning\", marker=\"o\")\n",
        "plt.plot(eval_lora[\"epoch\"], eval_lora[\"eval_loss\"], label=\"LoRA Fine-Tuning\", marker=\"o\")\n",
        "\n",
        "# Find the minimum loss for best performance epoch\n",
        "min_idx_full = eval_full[\"eval_loss\"][0:20].idxmin()\n",
        "min_epoch_full = eval_full.loc[min_idx_full, \"epoch\"]\n",
        "plt.axvline(x=min_epoch_full, color='blue', linestyle='--', alpha=0.7, label=f'Full Min (Epoch {min_epoch_full:.0f})')\n",
        "\n",
        "min_idx_lora = eval_lora[\"eval_loss\"].idxmin()\n",
        "min_epoch_lora = eval_lora.loc[min_idx_lora, \"epoch\"]\n",
        "plt.axvline(x=min_epoch_lora, color='orange', linestyle='--', alpha=0.7, label=f'LoRA Min (Epoch {min_epoch_lora:.0f})')\n",
        "\n",
        "plt.title(\"Validation Loss per Epoch\")\n",
        "plt.xlabel(\"Epoch\")\n",
        "plt.ylabel(\"Eval Loss\")\n",
        "plt.legend()\n",
        "plt.grid(True)\n",
        "plt.tight_layout()\n",
        "plt.show()"
      ],
      "metadata": {
        "id": "jzCvXwn60OIC",
        "colab": {
          "base_uri": "https://localhost:8080/",
          "height": 507
        },
        "outputId": "6d1c4906-a056-4c64-972f-da7320d5ab86"
      },
      "execution_count": 58,
      "outputs": [
        {
          "output_type": "display_data",
          "data": {
            "text/plain": [
              "<Figure size 800x500 with 1 Axes>"
            ],
            "image/png": "[encoded data removed]"
          },
          "metadata": {}
        }
      ]
    },
    {
      "cell_type": "markdown",
      "source": [
        "For both full fine-tuning and LoRA fine-tuning method, the minimum evalution loss happens when epoch=6. After epoch > 6, the loss keep increasing, which represents that the model is overfitting"
      ],
      "metadata": {
        "id": "PJukuKD3VEoL"
      }
    },
    {
      "cell_type": "code",
      "source": [
        "# Keep only eval metrics\n",
        "eval_logs = logs[logs[\"loss\"].isna()]  # only evaluation steps\n",
        "\n",
        "# Plot Accuracy & F1\n",
        "fig, ax = plt.subplots(1, 2, figsize=(12, 5))\n",
        "for setup, df in eval_logs.groupby(\"setup\"):\n",
        "    ax[0].plot(df[\"epoch\"], df[\"eval_accuracy\"], label=setup)\n",
        "    ax[1].plot(df[\"epoch\"], df[\"eval_f1\"], label=setup)\n",
        "\n",
        "    epoch_6_data = df[df[\"epoch\"] == 6]\n",
        "\n",
        "    acc_val = epoch_6_data[\"eval_accuracy\"].values[0]\n",
        "    f1_val = epoch_6_data[\"eval_f1\"].values[0]\n",
        "\n",
        "    ax[0].annotate(f'{acc_val:.3f}',\n",
        "                  xy=(6, acc_val),\n",
        "                  xytext=(10, 10),\n",
        "                  textcoords='offset points',\n",
        "                  bbox=dict(boxstyle='round,pad=0.5', fc='yellow', alpha=0.7),\n",
        "                  arrowprops=dict(arrowstyle='->', connectionstyle='arc3,rad=0'))\n",
        "\n",
        "    ax[1].annotate(f'{f1_val:.3f}',\n",
        "                  xy=(6, f1_val),\n",
        "                  xytext=(10, 10),\n",
        "                  textcoords='offset points',\n",
        "                  bbox=dict(boxstyle='round,pad=0.5', fc='yellow', alpha=0.7),\n",
        "                  arrowprops=dict(arrowstyle='->', connectionstyle='arc3,rad=0'))\n",
        "\n",
        "\n",
        "ax[0].set_title(\"Validation Accuracy per Epoch\")\n",
        "ax[1].set_title(\"Validation F1 per Epoch\")\n",
        "for a in ax:\n",
        "    a.set_xlabel(\"Epoch\")\n",
        "    a.set_ylabel(\"Score\")\n",
        "    a.legend()\n",
        "    a.grid(True)\n",
        "plt.tight_layout()\n",
        "plt.show()\n"
      ],
      "metadata": {
        "id": "RXeEsn_DzFfj",
        "colab": {
          "base_uri": "https://localhost:8080/",
          "height": 425
        },
        "outputId": "31da2c9d-ff94-4e4f-9ec4-7c2b1c7472f3"
      },
      "execution_count": 59,
      "outputs": [
        {
          "output_type": "display_data",
          "data": {
            "text/plain": [
              "<Figure size 1200x500 with 2 Axes>"
            ],
            "image/png": "[encoded data removed]"
          },
          "metadata": {}
        }
      ]
    },
    {
      "cell_type": "markdown",
      "source": [
        "### Evaluation with FinBERT"
      ],
      "metadata": {
        "id": "juTsgQR-gvlP"
      }
    },
    {
      "cell_type": "code",
      "source": [
        "\n",
        "finbert = BertForSequenceClassification.from_pretrained('yiyanghkust/finbert-tone',num_labels=3)\n",
        "tokenizer = BertTokenizer.from_pretrained('yiyanghkust/finbert-tone')"
      ],
      "metadata": {
        "id": "WxQuvEuT6UWD"
      },
      "execution_count": 62,
      "outputs": []
    },
    {
      "cell_type": "code",
      "source": [
        "nlp = pipeline(\"sentiment-analysis\", model=finbert, tokenizer=tokenizer)"
      ],
      "metadata": {
        "colab": {
          "base_uri": "https://localhost:8080/"
        },
        "id": "XtSpoiz-8Kn-",
        "outputId": "c94bdb12-6ba4-4a16-cef0-23bf6bf8b2cb"
      },
      "execution_count": 64,
      "outputs": [
        {
          "output_type": "stream",
          "name": "stderr",
          "text": [
            "Device set to use cuda:0\n"
          ]
        }
      ]
    },
    {
      "cell_type": "code",
      "source": [
        "# Load dataset\n",
        "ds = load_dataset(\"zeroshot/twitter-financial-news-sentiment\")"
      ],
      "metadata": {
        "id": "Iokh1MOOimF6"
      },
      "execution_count": 65,
      "outputs": []
    },
    {
      "cell_type": "code",
      "source": [
        "# Label mapping\n",
        "# Dataset: 0=Bearish, 1=Bullish, 2=Neutral\n",
        "# FinBERT: LABEL_0=Neutral, LABEL_1=Positive, LABEL_2=Negative\n",
        "# We need to map: Bearish->Negative(2), Bullish->Positive(1), Neutral->Neutral(0)\n",
        "dataset_to_finbert = {\n",
        "    0: 2,  # Bearish -> Negative\n",
        "    1: 1,  # Bullish -> Positive\n",
        "    2: 0   # Neutral -> Neutral\n",
        "}\n",
        "\n",
        "finbert_to_dataset = {\n",
        "    0: 2,  # Neutral -> Neutral\n",
        "    1: 1,  # Positive -> Bullish\n",
        "    2: 0   # Negative -> Bearish\n",
        "}"
      ],
      "metadata": {
        "id": "W7uEmu39k9ur"
      },
      "execution_count": 66,
      "outputs": []
    },
    {
      "cell_type": "code",
      "source": [
        "def evaluate_finbert(dataset_split, model, tokenizer, device='cuda' if torch.cuda.is_available() else 'cpu'):\n",
        "    model.to(device)\n",
        "    model.eval()\n",
        "\n",
        "    texts = dataset_split['text']\n",
        "    true_labels = dataset_split['label']\n",
        "\n",
        "    predictions = []\n",
        "    all_losses = []\n",
        "    loss_fct = CrossEntropyLoss()\n",
        "\n",
        "    with torch.no_grad():\n",
        "        for i, text in enumerate(texts):\n",
        "            # Tokenize\n",
        "            inputs = tokenizer(text, return_tensors=\"pt\", truncation=True, max_length=512, padding=True)\n",
        "            inputs = {k: v.to(device) for k, v in inputs.items()}\n",
        "\n",
        "            # Get model output\n",
        "            outputs = model(**inputs)\n",
        "            logits = outputs.logits\n",
        "\n",
        "            # Get prediction (FinBERT label)\n",
        "            pred_finbert = torch.argmax(logits, dim=1).item()\n",
        "\n",
        "            # Convert to dataset label\n",
        "            pred_dataset = finbert_to_dataset[pred_finbert]\n",
        "            predictions.append(pred_dataset)\n",
        "\n",
        "            # Calculate loss using mapped labels\n",
        "            true_label_finbert = dataset_to_finbert[true_labels[i]]\n",
        "            labels = torch.tensor([true_label_finbert]).to(device)\n",
        "            loss = loss_fct(logits, labels)\n",
        "            all_losses.append(loss.item())\n",
        "\n",
        "    # Calculate metrics\n",
        "    accuracy = accuracy_score(true_labels, predictions)\n",
        "    f1 = f1_score(true_labels, predictions, average='weighted')\n",
        "    avg_loss = np.mean(all_losses)\n",
        "\n",
        "    return {\n",
        "        'loss': avg_loss,\n",
        "        'accuracy': accuracy,\n",
        "        'f1': f1,\n",
        "        'predictions': predictions\n",
        "    }\n"
      ],
      "metadata": {
        "id": "o5M4ms5ilAww"
      },
      "execution_count": 68,
      "outputs": []
    },
    {
      "cell_type": "code",
      "source": [
        "# Evaluate on train set\n",
        "print(\"Evaluating on training set...\")\n",
        "train_results = evaluate_finbert(ds['train'], finbert, tokenizer)\n",
        "print(f\"Train Loss: {train_results['loss']:.4f}\")\n",
        "print(f\"Train Accuracy: {train_results['accuracy']:.4f}\")\n",
        "print(f\"Train F1: {train_results['f1']:.4f}\")"
      ],
      "metadata": {
        "colab": {
          "base_uri": "https://localhost:8080/"
        },
        "id": "ayqF8llQljbE",
        "outputId": "795aef0f-09c7-4c60-a35f-ac75de6712e4"
      },
      "execution_count": 70,
      "outputs": [
        {
          "output_type": "stream",
          "name": "stdout",
          "text": [
            "Evaluating on training set...\n",
            "Train Loss: 2.0223\n",
            "Train Accuracy: 0.7362\n",
            "Train F1: 0.7290\n"
          ]
        }
      ]
    },
    {
      "cell_type": "code",
      "source": [
        "print(\"\\nEvaluating on validation set...\")\n",
        "val_results = evaluate_finbert(ds['validation'], finbert, tokenizer)\n",
        "print(f\"Validation Loss: {val_results['loss']:.4f}\")\n",
        "print(f\"Validation Accuracy: {val_results['accuracy']:.4f}\")\n",
        "print(f\"Validation F1: {val_results['f1']:.4f}\")"
      ],
      "metadata": {
        "colab": {
          "base_uri": "https://localhost:8080/"
        },
        "id": "XgSOoBKHlSGQ",
        "outputId": "dba5c7ce-ebd5-4efa-b64f-c230adc9c7eb"
      },
      "execution_count": 69,
      "outputs": [
        {
          "output_type": "stream",
          "name": "stdout",
          "text": [
            "\n",
            "Evaluating on validation set...\n",
            "Validation Loss: 1.8951\n",
            "Validation Accuracy: 0.7483\n",
            "Validation F1: 0.7424\n"
          ]
        }
      ]
    },
    {
      "cell_type": "markdown",
      "source": [
        "#### After cleaning"
      ],
      "metadata": {
        "id": "07lGMuZBmBBN"
      }
    },
    {
      "cell_type": "code",
      "source": [
        "ds_clean = ds.map(lambda x: {\"text\": clean_tweet(x[\"text\"])})"
      ],
      "metadata": {
        "colab": {
          "base_uri": "https://localhost:8080/",
          "height": 81,
          "referenced_widgets": [
            "290ff6ef3b5b4c7e9f739019923fe428",
            "deb29998e17944a4ac5769f7579d6449",
            "8361d76705da4478aa8c15894d208fef",
            "ff443868b4a04be687ebad3a36af3318",
            "20914a564b124da5b16244864ef49257",
            "b0fdfca522be4439b92cef355e1468cf",
            "cfb8eac084b34b0cacca68eb15f9b951",
            "f2f9dcddc6e246b6bfe7b087a3e5d727",
            "ef1fed27bdf048c2ad8063822c720ecd",
            "df7f091354d145d6b0ec18a38d82ab27",
            "a849deee6c0d4dc7aaa9c384117176f1",
            "771986e8d68e4aaa9269fcadcc894e69",
            "4d66884f54be42149ea6f36c098acac8",
            "588df679faf6451397d050989828b064",
            "63fed8d77c9b450f8a88a79bd3fc9c01",
            "92c74d12809549c195a17056f5a6f24e",
            "59f70f6e781d4794904c1bacdb0e610c",
            "92903a44437b4d4eb19177abb6d84c2d",
            "fdd8979e7e7640c2b226004fab2247d4",
            "b18a5b3b3697440baa247645302a880c",
            "9d04783d0eb2452f8f46269ad8dede7c",
            "f6cf1b5a5cfa4001aa98ec63ff101d27"
          ]
        },
        "id": "OxU11DOvlYzs",
        "outputId": "bc3ea3a3-d192-4853-f719-c263178c8eb8"
      },
      "execution_count": 71,
      "outputs": [
        {
          "output_type": "display_data",
          "data": {
            "text/plain": [
              "Map:   0%|          | 0/9543 [00:00<?, ? examples/s]"
            ],
            "application/vnd.jupyter.widget-view+json": {
              "version_major": 2,
              "version_minor": 0,
              "model_id": "290ff6ef3b5b4c7e9f739019923fe428"
            }
          },
          "metadata": {}
        },
        {
          "output_type": "display_data",
          "data": {
            "text/plain": [
              "Map:   0%|          | 0/2388 [00:00<?, ? examples/s]"
            ],
            "application/vnd.jupyter.widget-view+json": {
              "version_major": 2,
              "version_minor": 0,
              "model_id": "771986e8d68e4aaa9269fcadcc894e69"
            }
          },
          "metadata": {}
        }
      ]
    },
    {
      "cell_type": "code",
      "source": [
        "train_cl_results = evaluate_finbert(ds_clean['train'], finbert, tokenizer)\n",
        "print(f\"Train Loss: {train_results['loss']:.4f}\")"
      ],
      "metadata": {
        "colab": {
          "base_uri": "https://localhost:8080/"
        },
        "id": "OXw_J2h5mKAD",
        "outputId": "e78e1b34-8d55-43b0-848d-2fde3b385265"
      },
      "execution_count": 72,
      "outputs": [
        {
          "output_type": "stream",
          "name": "stdout",
          "text": [
            "Train Loss: 2.0223\n"
          ]
        }
      ]
    },
    {
      "cell_type": "code",
      "source": [
        "print(\"\\nEvaluating on validation set...\")\n",
        "val_cl_results = evaluate_finbert(ds_clean['validation'], finbert, tokenizer)\n",
        "print(f\"Validation Loss: {val_results['loss']:.4f}\")\n",
        "print(f\"Validation Accuracy: {val_results['accuracy']:.4f}\")\n",
        "print(f\"Validation F1: {val_results['f1']:.4f}\")"
      ],
      "metadata": {
        "colab": {
          "base_uri": "https://localhost:8080/"
        },
        "id": "QmJ5Jk5dmR5K",
        "outputId": "5dd96c20-1469-491a-8048-7c7d34aa7215"
      },
      "execution_count": 73,
      "outputs": [
        {
          "output_type": "stream",
          "name": "stdout",
          "text": [
            "\n",
            "Evaluating on validation set...\n",
            "Validation Loss: 1.8951\n",
            "Validation Accuracy: 0.7483\n",
            "Validation F1: 0.7424\n"
          ]
        }
      ]
    },
    {
      "cell_type": "code",
      "source": [],
      "metadata": {
        "id": "nA7jPYcYm4vP"
      },
      "execution_count": null,
      "outputs": []
    }
  ]
}